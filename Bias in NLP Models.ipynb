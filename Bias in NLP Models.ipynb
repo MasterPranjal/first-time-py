{
 "cells": [
  {
   "cell_type": "markdown",
   "metadata": {},
   "source": [
    "# Investigating and Correcting Bias in NLP Models\n",
    "\n",
    "Welcome to the Investigating and correcting bias in word vectors for NLP models, an assignment of CSCM21 (Abuses Bias and Blessings of Data) delivered by Dr Matt Roach. Here you will gain experience in using investigating and correcting bias in algorithms. Specifically in this lab we will look at a method of converting unstructured text into numerical representations (vectors) that also embed semantic understanding into the numerical feature space. This is commonly known as word2vec, and used in many computational Natural Language Processing (NLP) tasks, such as: text prediction, document topic classification, language translation and many more.\n",
    "\n",
    "State of the art performance in NLP research has recently seen a transition of focus from rule-based or word-frequency probabilistic models to probabilistic models based on word-vector representations within the last decade. These types of models have made great strides in our ability to learn semantic relationships between words allowing for much richer modelling of natural language that has been possible with rule-based and word-frequency based approaches. One such example is the 'GloVe' word embeddings by Pennington <i> et al</i> [1], in this lab we will be using a word embedding model trained with the GloVe method.\n",
    "    \n",
    "Moreover, the world has seen a growth in large pre-trained models based on this new breed of NLP algorithms, and as such, there is a real danger that developer could adopt and embed these models in software products and services without being aware of the possible unintended consequences. You will be taking a look at how you might detect bias in word vector models and a method we could use to de-bias the model post-training presented by Bolukbasi <i>et al.</i> in titled <i>\"Man is to Computer Programmer as Woman is to Homemaker? Debiasing Word Embeddings\"</i> [2]\n",
    "\n",
    "\n",
    "[1] J. Pennington, R. Socher, and C. D. Manning, “GloVe: Global vectors for word representation,” in EMNLP 2014  Conference on Empirical Methods in Natural Language Processing, Proceedings of the Conference, 2014 [Link to Paper](https://nlp.stanford.edu/projects/glove/).\n",
    "\n",
    "\n",
    "[2] T. Bolukbasi, K.-W. Chang, J. Zou, V. Saligrama, and A. Kalai, “Man is to Computer Programmer as Woman is to Homemaker? Debiasing Word Embeddings,” Jul. 2016.[Link to Paper](https://papers.nips.cc/paper/6228-man-is-to-computer-programmer-as-woman-is-to-homemaker-debiasing-word-embeddings.pdf).\n",
    "\n",
    "[3] This workbook is an based on one created by Andrew Ng and reuses some material with thanks.\n",
    "\n",
    "## Learning Objectives:\n",
    "\n",
    "- Investigate word similarity a pre-trained word embedding model.\n",
    "- Use word embeddings to solve word analogy problems.\n",
    "- Design counter factual word analogies to detect bias in the word embedding model.\n",
    "- Modify the word embedding model to reduce its gender bias.\n",
    "- Critically reflect on the effectiveness and limitations of the de-bais methods used.\n",
    "\n",
    "Run the following cell to load the packages you will need."
   ]
  },
  {
   "cell_type": "code",
   "execution_count": 1,
   "metadata": {},
   "outputs": [
    {
     "name": "stdout",
     "output_type": "stream",
     "text": [
      "Python version: 3.9.7\n",
      "Python path: /Users/pranjall/opt/anaconda3/bin/python\n",
      "Working Directory: /Users/pranjall/Library/CloudStorage/OneDrive-SwanseaUniversity/Sem 2/CSCM21_Abuses, Biases and Blessings of Data/Lab 2/Bias NLP lab\n",
      "TensorFlow version: 2.5.0\n"
     ]
    }
   ],
   "source": [
    "import sys\n",
    "import os\n",
    "import tensorflow as tf\n",
    "from platform import python_version \n",
    "\n",
    "#------------- Load in some helpful packages we will use for the lab -------------------------\n",
    "\n",
    "import numpy as np\n",
    "from w2v_utils import * # included in the lab download file.\n",
    "import matplotlib.pyplot as plt\n",
    "import matplotlib.cm as cm\n",
    "from sklearn.manifold import TSNE\n",
    "\n",
    "\n",
    "#------------- Print versions an paths for potencial debugging -------------------------\n",
    "\n",
    "print('Python version:', python_version()) # print the version of python the script is using\n",
    "print('Python path:', sys.executable) # print the path for the python executable the script is using\n",
    "print('Working Directory:', os.getcwd()) # print the current working directory \n",
    "print (\"TensorFlow version: \" + tf.__version__) # print the tensorflow version\n"
   ]
  },
  {
   "cell_type": "markdown",
   "metadata": {},
   "source": [
    "# 1. Vectorised Word Embeddings Models\n",
    "\n",
    "A reminder from work covered in the lecture, word vectors are generated using supervised training in the form of an auto-encoder.\n",
    "\n",
    "<center><img src=\"images/w2v.png\" width=\"800px\"/></center>\n",
    "\n",
    "<caption><center> <b>Figure</b> 1:  Word2Vec is a 3 layer architecture, with an input layer size equal to the size of the vocabulary, hidden layer of size of the embedding vector (typically 200-300 in this lab we will use a model based on 50) and output size again equal to the vocab size.</center></caption>\n",
    "  \n",
    "The input to the network is a 1-hot vector (a vector which all values are 0 except the value corresponding to the input word). This essentially acts as a mask on the embedding space, so that only the input word outputs nonzero activations from the embedding space through to the output layer. The output layer then predicts expected word based on the input words. The training objective function is a simple measure of the prediction performance. For the workbook we will work on the word embeddings - that are the outputs of the hidden layer from above, for each word - post training.\n"
   ]
  },
  {
   "cell_type": "markdown",
   "metadata": {},
   "source": [
    "## 1.1 Load the Word Embedding Vectors. \n",
    "\n",
    "In this section, we will use 50-dimensional GloVe vectors to represent words.  We will not need to train the model or infact generate the vectors for each word this part has already been done. \n",
    "\n",
    "In the following line of code we will load a file \"glove.6B.50d.txt\" and stores the contents in python variables `word_to_vec_map` and `words`."
   ]
  },
  {
   "cell_type": "code",
   "execution_count": 8,
   "metadata": {},
   "outputs": [],
   "source": [
    "words, word_to_vec_map = read_glove_vecs('data/glove.6B.50d.txt')"
   ]
  },
  {
   "cell_type": "markdown",
   "metadata": {},
   "source": [
    "Above you have loaded:\n",
    "- `words`: set of words in the vocabulary.\n",
    "- `word_to_vec_map`: a python dictionary that contains the word GloVe vector representation for each word.\n",
    " - note the index to retrieve a single word vector from `word_to_vec_map` is the word itself i.e. to get the vector for mother you can use the syntax `word_to_vec_map[mother]`.\n",
    "\n",
    "Lets take a look at the loaded sets of words and word vectors in the cell below investigate words that are in the models and take a look at their word vectors. \n",
    "\n",
    "**You need to:**\n",
    "- find out the number of words in our vocabulary, i.e. print the number of elements (words) in `words`. Hint use `len`.\n",
    "- print the vector for the word \"farther\".\n",
    "- investigate the word vector for a small number (approx. 5) of different words. \n",
    " - Note print each example to the note book (don't overwrite, in order to present examples of your exploration)."
   ]
  },
  {
   "cell_type": "code",
   "execution_count": 18,
   "metadata": {},
   "outputs": [
    {
     "name": "stdout",
     "output_type": "stream",
     "text": [
      "400000\n",
      "father\n"
     ]
    }
   ],
   "source": [
    "### START CODE ###\n",
    "num_words = len(words)\n",
    "print(num_words)\n",
    "### END CODE ###\n",
    "\n",
    "### START CODE ###\n",
    "word = 'father'\n",
    "print(word)\n",
    "### END CODE ###"
   ]
  },
  {
   "cell_type": "markdown",
   "metadata": {},
   "source": [
    "## 1.2  Visualising  Word Vectors\n",
    "\n",
    "In this next section we will investigate the semantic meaning embedded in the word vectors. To do this you will presenting example word vectors. The vector element values will be visuliased using a colour from the jet color map range illustrated below from blue (low) to red (high), the maximum and minimum range of the color maps is normalised to the max and min vector componet value contined in all the vectors in `word_to_vec_map`.\n",
    "\n",
    "<center><img src=\"images/jet_colour.png\" style=\"width:400px\"></center>\n",
    "    \n",
    "<center><caption> <b>Figure 2:</b> Jet Colour Range (Left/Blue Least, Right/Red Most)</caption></center>\n",
    "\n",
    "**Your tasks is to:**\n",
    "    \n",
    "- Calucate the maximum and minimum vector component values - buy running the cell below\n"
   ]
  },
  {
   "cell_type": "code",
   "execution_count": 17,
   "metadata": {},
   "outputs": [
    {
     "name": "stdout",
     "output_type": "stream",
     "text": [
      "the minimun vector componet value in the whole vocablray is:  -5.4593\n",
      "the maximum vector componet value in the whole vocablray is:  5.3101\n"
     ]
    }
   ],
   "source": [
    "def viz_vectors(word_to_vec_map, vec_max, vec_min, word_1, word_2, word_3):\n",
    "    \"\"\"\n",
    "    This funtion accepts three words and returns a figure handle for a plot.\n",
    "    \n",
    "    Inputs:\n",
    "    word_to_vec_map - data dictionary conatin a map form work 'keys' to vectors\n",
    "    vec_max  - a float containg maximum vector element value in dictionary\n",
    "    vec_min - a float containg lowest vector element value in dictionary\n",
    "    word_1 - string containing a word \n",
    "    word_2 - string containing a word\n",
    "    word_3 - string containing a word\n",
    "    \n",
    "    Outputs:\n",
    "    fig - a handle to a plot\n",
    "    \"\"\"\n",
    "\n",
    "    wordvec_1 = word_to_vec_map[word_1]\n",
    "    wordvec_2 = word_to_vec_map[word_2]\n",
    "    wordvec_3 = word_to_vec_map[word_3]\n",
    "    view_wordvec_1 = np.reshape(wordvec_1, (1, 50))\n",
    "    view_wordvec_2 = np.reshape(wordvec_2, (1, 50))\n",
    "    view_wordvec_3 = np.reshape(wordvec_3, (1, 50))\n",
    "\n",
    "    fig = plt.figure(figsize = (15,2))\n",
    "\n",
    "    ax1 = fig.add_subplot(311)\n",
    "    ax1.axes.get_yaxis().set_visible(False)\n",
    "    ax1.set_title(word_1)\n",
    "    ax1.imshow(view_wordvec_1, interpolation='nearest', cmap=cm.jet, vmin=vec_min, vmax=vec_max)\n",
    "\n",
    "    ax2 = fig.add_subplot(312)\n",
    "    ax2.axes.get_yaxis().set_visible(False)\n",
    "    ax2.imshow(view_wordvec_2, interpolation='nearest', cmap=cm.jet, vmin=vec_min, vmax=vec_max)\n",
    "    ax2.set_title(word_2)\n",
    "    \n",
    "    ax3 = fig.add_subplot(313)\n",
    "    ax3.axes.get_yaxis().set_visible(False)\n",
    "    ax3.set_title(word_3)\n",
    "    ax3.imshow(view_wordvec_3, interpolation='nearest', cmap=cm.jet, vmin=vec_min, vmax=vec_max)\n",
    "    \n",
    "    return(fig)\n",
    "\n",
    "def vec_max_min(word_to_vec_map):\n",
    "    vec_max = 0\n",
    "    vec_min = 0\n",
    "\n",
    "    for key in word_to_vec_map:\n",
    "        if np.amax(word_to_vec_map[key]) > vec_max:\n",
    "            vec_max = np.amax(word_to_vec_map[key])\n",
    "        if np.amin(word_to_vec_map[key]) < vec_min:\n",
    "            vec_min = np.amin(word_to_vec_map[key])\n",
    "\n",
    "    return(vec_max,vec_min)\n",
    "\n",
    "vec_max, vec_min = vec_max_min(word_to_vec_map)\n",
    "\n",
    "print(\"the minimun vector componet value in the whole vocablray is: \", vec_min)\n",
    "print(\"the maximum vector componet value in the whole vocablray is: \", vec_max)\n"
   ]
  },
  {
   "cell_type": "markdown",
   "metadata": {},
   "source": [
    "**Expected Output**:\n",
    "\n",
    "<table>\n",
    "    <tr>\n",
    "        <td>\n",
    "            minimun vector componet value\n",
    "        </td>\n",
    "        <td>\n",
    "         -5.4593\n",
    "        </td>\n",
    "    </tr>\n",
    "        <tr>\n",
    "        <td>\n",
    "            maximum vector componet value\n",
    "        </td>\n",
    "        <td>\n",
    "         5.3101\n",
    "        </td>\n",
    "    </tr>\n",
    "</table>\n",
    "\n",
    "\n",
    "\n",
    "**In the follwing cell your tasks is to:**\n",
    "    \n",
    "-  Visualise an addtinal three sets of three vectors where two vectors are similar semantically and have similar patterns in the vector visulisation and a third that is related but different in both semantic meaning and a difference can been seen in the vector visulisation, you can do this by calling the function `viz_vectors`."
   ]
  },
  {
   "cell_type": "code",
   "execution_count": 19,
   "metadata": {},
   "outputs": [
    {
     "data": {
      "image/png": "[encoded data removed]",
      "text/plain": [
       "<Figure size 1080x144 with 3 Axes>"
      ]
     },
     "metadata": {
      "needs_background": "light"
     },
     "output_type": "display_data"
    },
    {
     "data": {
      "image/png": "[encoded data removed]",
      "text/plain": [
       "<Figure size 1080x144 with 3 Axes>"
      ]
     },
     "metadata": {
      "needs_background": "light"
     },
     "output_type": "display_data"
    },
    {
     "data": {
      "image/png": "[encoded data removed]",
      "text/plain": [
       "<Figure size 1080x144 with 3 Axes>"
      ]
     },
     "metadata": {
      "needs_background": "light"
     },
     "output_type": "display_data"
    },
    {
     "data": {
      "image/png": "[encoded data removed]",
      "text/plain": [
       "<Figure size 1080x144 with 3 Axes>"
      ]
     },
     "metadata": {
      "needs_background": "light"
     },
     "output_type": "display_data"
    }
   ],
   "source": [
    "\n",
    "fig = viz_vectors(word_to_vec_map, vec_max, vec_min, 'man', 'woman', 'person')\n",
    "plt.show()\n",
    "\n",
    "##### START CODE #######\n",
    "\n",
    "#Step 1: vizulise first set of three words\n",
    "fig = viz_vectors(word_to_vec_map, vec_max, vec_min, 'football', 'cricket', 'sports')\n",
    "plt.show()\n",
    "\n",
    "#Step 1: vizulise first set of three words\n",
    "fig = viz_vectors(word_to_vec_map, vec_max, vec_min, 'mouse', 'keyboard', 'computers')\n",
    "plt.show()\n",
    "\n",
    "#Step 1: vizulise first set of three words\n",
    "fig = viz_vectors(word_to_vec_map, vec_max, vec_min, 'coffee', 'tea', 'beverages')\n",
    "plt.show()\n",
    "\n",
    "##### END CODE #########"
   ]
  },
  {
   "cell_type": "markdown",
   "metadata": {},
   "source": [
    "## 1.3 Viewing Word Clusters in the Vector Space\n",
    "\n",
    "In this section you will view the vectors plotted in the feature space, since our feature space is 50 dimensions we will use a dimension reduction technique to be able to plot the vectors in a 2-dimensional space. This technique compresses the 50 dimension into 2 whilst trying to retain the most significant information. Although is inevitable this technique looses discriminatory information we can still visualise semantic relationships in the vector space, as illustrated in the figure below.\n",
    "\n",
    "<center><img src=\"images/Country_Capital_Vectors.png\" width=\"500px\"/></center>\n",
    "\n",
    "<caption><center> <b>Figure 3:</b> Visulisation of vectors in 2-dimentional space, the word vector positions are marked by a red <span style=\"color:red\"> X </span> the dotted lines are representing the semantic relationship between word vectors.</center></caption>\n",
    "\n",
    "- run the cell below to load a function to reduce the feature space and plot visualise word vectors,\n"
   ]
  },
  {
   "cell_type": "code",
   "execution_count": 30,
   "metadata": {},
   "outputs": [],
   "source": [
    "def tsne_plot(model):\n",
    "    \"\"\"\n",
    "    Creates and TSNE model and plots it\n",
    "    \"\"\"\n",
    "    \n",
    "    labels = []\n",
    "    tokens = []\n",
    "\n",
    "    for word in model:  #.wv.vocab\n",
    "        tokens.append(model[word])\n",
    "        labels.append(word)\n",
    "    \n",
    "    tsne_model = TSNE(perplexity=2, n_components=2, init='pca', n_iter=2500, random_state=23)\n",
    "    new_values = tsne_model.fit_transform(tokens)\n",
    "\n",
    "    x = []\n",
    "    y = []\n",
    "    for value in new_values:\n",
    "        x.append(value[0])\n",
    "        y.append(value[1])\n",
    "\n",
    "    plt.figure(figsize=(16, 16)) \n",
    "    for i in range(len(x)):\n",
    "        plt.scatter(x[i],y[i])\n",
    "        plt.annotate(labels[i],\n",
    "                     xy=(x[i], y[i]),\n",
    "                     xytext=(5, 2),\n",
    "                     textcoords='offset points',\n",
    "                     ha='right',\n",
    "                     va='bottom')\n",
    "    plt.show()\n"
   ]
  },
  {
   "cell_type": "markdown",
   "metadata": {},
   "source": [
    "**Your task it to:**\n",
    "\n",
    "- run the code below to see the relationships between counties and their capitals\n",
    "- create two new words lists that create three cluster of words in the feature space where the word within clusters have a semantic relationship and the words across clusters do not.\n",
    "- there is an example already coded, make sure too add your code and plot (do not overwrite)\n",
    "    "
   ]
  },
  {
   "cell_type": "code",
   "execution_count": 38,
   "metadata": {},
   "outputs": [
    {
     "name": "stderr",
     "output_type": "stream",
     "text": [
      "C:\\Programs\\Python37-CS-CM77\\lib\\site-packages\\sklearn\\manifold\\_t_sne.py:793: FutureWarning: The default learning rate in TSNE will change from 200.0 to 'auto' in 1.2.\n",
      "  FutureWarning,\n",
      "C:\\Programs\\Python37-CS-CM77\\lib\\site-packages\\sklearn\\manifold\\_t_sne.py:986: FutureWarning: The PCA initialization in TSNE will change to have the standard deviation of PC1 equal to 1e-4 in 1.2. This will ensure better convergence.\n",
      "  FutureWarning,\n"
     ]
    },
    {
     "data": {
      "image/png": "[encoded data removed]",
      "text/plain": [
       "<Figure size 1152x1152 with 1 Axes>"
      ]
     },
     "metadata": {
      "needs_background": "light"
     },
     "output_type": "display_data"
    },
    {
     "name": "stderr",
     "output_type": "stream",
     "text": [
      "C:\\Programs\\Python37-CS-CM77\\lib\\site-packages\\sklearn\\manifold\\_t_sne.py:793: FutureWarning: The default learning rate in TSNE will change from 200.0 to 'auto' in 1.2.\n",
      "  FutureWarning,\n",
      "C:\\Programs\\Python37-CS-CM77\\lib\\site-packages\\sklearn\\manifold\\_t_sne.py:986: FutureWarning: The PCA initialization in TSNE will change to have the standard deviation of PC1 equal to 1e-4 in 1.2. This will ensure better convergence.\n",
      "  FutureWarning,\n"
     ]
    },
    {
     "data": {
      "image/png": "[encoded data removed]",
      "text/plain": [
       "<Figure size 1152x1152 with 1 Axes>"
      ]
     },
     "metadata": {
      "needs_background": "light"
     },
     "output_type": "display_data"
    },
    {
     "name": "stderr",
     "output_type": "stream",
     "text": [
      "C:\\Programs\\Python37-CS-CM77\\lib\\site-packages\\sklearn\\manifold\\_t_sne.py:793: FutureWarning: The default learning rate in TSNE will change from 200.0 to 'auto' in 1.2.\n",
      "  FutureWarning,\n",
      "C:\\Programs\\Python37-CS-CM77\\lib\\site-packages\\sklearn\\manifold\\_t_sne.py:986: FutureWarning: The PCA initialization in TSNE will change to have the standard deviation of PC1 equal to 1e-4 in 1.2. This will ensure better convergence.\n",
      "  FutureWarning,\n"
     ]
    },
    {
     "data": {
      "image/png": "[encoded data removed]",
      "text/plain": [
       "<Figure size 1152x1152 with 1 Axes>"
      ]
     },
     "metadata": {
      "needs_background": "light"
     },
     "output_type": "display_data"
    }
   ],
   "source": [
    "word_list = ('china','bejing', 'japan', 'tokyo', 'italy', 'rome', 'spain', 'madrid', 'uk', 'london'\n",
    "             ,'belgium', 'brussels', 'portugal', 'lisbon', 'russia','moscow', 'thailand','bangkok')\n",
    "\n",
    "new_dict = {k:word_to_vec_map[k] for k in word_list if k in word_to_vec_map}\n",
    "\n",
    "tsne_plot(new_dict)\n",
    "\n",
    "word_list =('car' ,'bus','airplane', 'lorry','run','walk','jog','sprint', 'green', 'red' ,'blue', 'yellow')\n",
    "\n",
    "new_dict = {k:word_to_vec_map[k] for k in word_list if k in word_to_vec_map}\n",
    "\n",
    "tsne_plot(new_dict)\n",
    "\n",
    "#### START CODE #####\n",
    "\n",
    "word_list = ('laptop', 'mouse', 'keyboard', 'desktop', 'tablet', 'television', 'projector', 'coffee', 'tea', 'milk', 'black coffee')\n",
    "new_dict = {k:word_to_vec_map[k] for k in word_list if k in word_to_vec_map}\n",
    "tsne_plot(new_dict)\n",
    "\n",
    "\n",
    "### END CODE ######\n"
   ]
  },
  {
   "cell_type": "markdown",
   "metadata": {},
   "source": [
    "# 2.  Measuring Word Similarity in Vector Space\n",
    "\n",
    "Next we will generate a way of measuring the similarity of embedding vectors of two given words. We will use the cosine similarity measure since it takes into account the angle of the vector not just the magnitude as it is the angle of the vector that contains most of the semantic meaning. Given two vectors $u$ and $v$, cosine similarity is defined as follows: \n",
    "\n",
    "$$\\text{CosineSimilarity(u, v)} = \\frac {u . v} {||u||_2 ||v||_2} = cos(\\theta) \\tag{1}$$\n",
    "\n",
    "where $u.v$ is the dot product (or inner product) of two vectors, $||u||_2$ is the norm (or length) of the vector $u$, and $\\theta$ is the angle between $u$ and $v$. This similarity depends on the angle between $u$ and $v$. If $u$ and $v$ are very similar, their cosine similarity will be close to 1; if they are dissimilar, the cosine similarity will take a smaller value. \n",
    "\n",
    "<center><img src=\"images/cosine_sim.png\" width=\"800px\"/></center>\n",
    "\n",
    "<caption><center> <b>Figure 4</b>: The cosine of the angle between two vectors is a measure of how similar they are</center></caption>\n",
    "\n",
    "You need to:\n",
    "- Implement the function `cosine_similarity()` to evaluate similarity between word vectors.\n",
    "\n",
    "**Note:** The norm of $u$ is defined as $\\vert\\vert u\\vert\\vert_2 = \\sqrt{\\sum_{i=1}^{n} u_i^2}$\n",
    "\n",
    "**Hint** There a many maths functions provided by the numpy library imported in to this notebook as `np` so you can use functions to calculate dot product, square root, L2-norm etc of vectors. e.g. `np.dot(u, v)` "
   ]
  },
  {
   "cell_type": "code",
   "execution_count": 45,
   "metadata": {},
   "outputs": [],
   "source": [
    "def cosine_similarity(u, v):\n",
    "    \"\"\"\n",
    "    Cosine similarity reflects the degree of similariy between u and v\n",
    "        \n",
    "    Arguments:\n",
    "        u -- a word vector of shape (n,)          \n",
    "        v -- a word vector of shape (n,)\n",
    "\n",
    "    Returns:\n",
    "        cosine_similarity -- the cosine similarity between u and v defined by the formula above.\n",
    "    \"\"\"\n",
    "        \n",
    "    ### START CODE HERE ###\n",
    "    #Step 1: Compute the dot product between u and v\n",
    "    dot = np.dot(u,v)\n",
    "    #Step 2: Compute the L2 norm of u (≈1 line)\n",
    "    #The L2 norm calculates the distance of the vector coordinate from the origin of the vector space\n",
    "    norm_u = np.linalg.norm(u,2) \n",
    "    \n",
    "    #Step 3: Compute the L2 norm of v (≈1 line)\n",
    "    norm_v = np.linalg.norm(v,2)\n",
    "    \n",
    "    # Compute the cosine similarity defined by formula (1) (≈1 line)\n",
    "    # In data analysis, cosine similarity is a measure of similarity between two sequences of numbers.\n",
    "    cosine_similarity = np.dot(u,v) / (np.linalg.norm(u,2) * np.linalg.norm(v,2))\n",
    "    ### END CODE HERE ###\n",
    "    \n",
    "    return cosine_similarity"
   ]
  },
  {
   "cell_type": "markdown",
   "metadata": {},
   "source": [
    "## 2.1 Testing your Similarity Function\n",
    "Run the code below to test your Similarity function `cosine_similarity()`."
   ]
  },
  {
   "cell_type": "code",
   "execution_count": 46,
   "metadata": {},
   "outputs": [
    {
     "name": "stdout",
     "output_type": "stream",
     "text": [
      "cosine_similarity(father, mother) =  0.8909038442893615\n",
      "cosine_similarity(ball, crocodile) =  0.2743924626137942\n",
      "cosine_similarity(france - paris, rome - italy) =  -0.6751479308174202\n"
     ]
    }
   ],
   "source": [
    "father = word_to_vec_map[\"father\"]\n",
    "mother = word_to_vec_map[\"mother\"]\n",
    "ball = word_to_vec_map[\"ball\"]\n",
    "crocodile = word_to_vec_map[\"crocodile\"]\n",
    "france = word_to_vec_map[\"france\"]\n",
    "italy = word_to_vec_map[\"italy\"]\n",
    "paris = word_to_vec_map[\"paris\"]\n",
    "rome = word_to_vec_map[\"rome\"]\n",
    "\n",
    "print(\"cosine_similarity(father, mother) = \", cosine_similarity(father, mother))\n",
    "print(\"cosine_similarity(ball, crocodile) = \",cosine_similarity(ball, crocodile))\n",
    "print(\"cosine_similarity(france - paris, rome - italy) = \",cosine_similarity(france - paris, rome - italy))"
   ]
  },
  {
   "cell_type": "markdown",
   "metadata": {},
   "source": [
    "**Expected Output**:\n",
    "\n",
    "<table>\n",
    "    <tr>\n",
    "        <td>\n",
    "            **cosine_similarity(father, mother)** =\n",
    "        </td>\n",
    "        <td>\n",
    "         0.890903844289\n",
    "        </td>\n",
    "    </tr>\n",
    "        <tr>\n",
    "        <td>\n",
    "            **cosine_similarity(ball, crocodile)** =\n",
    "        </td>\n",
    "        <td>\n",
    "         0.274392462614\n",
    "        </td>\n",
    "    </tr>\n",
    "        <tr>\n",
    "        <td>\n",
    "            **cosine_similarity(france - paris, rome - italy)** =\n",
    "        </td>\n",
    "        <td>\n",
    "         -0.675147930817\n",
    "        </td>\n",
    "    </tr>\n",
    "</table>"
   ]
  },
  {
   "cell_type": "markdown",
   "metadata": {},
   "source": [
    "After you get the correct expected output, please feel free to modify the inputs and measure the cosine similarity between other pairs of words! Playing around the cosine similarity of other inputs will give you a better sense of how word vectors behave. "
   ]
  },
  {
   "cell_type": "markdown",
   "metadata": {},
   "source": [
    "# 2.2 - Word Analogy Task\n",
    "\n",
    "In the word analogy task, we complete the sentence <font color='brown'>\"*a* is to *b* as *c* is to **____**\"</font>. An example is <font color='brown'> '*man* is to *woman* as *king* is to *queen*' </font>. In detail, we are trying to find a word *d*, such that the associated word vectors $e_a, e_b, e_c, e_d$ are related in the following manner: $e_b - e_a \\approx e_d - e_c$. We will measure the similarity between $e_b - e_a$ and $e_d - e_c$ using cosine similarity. \n",
    "\n",
    "**Exercise**: Complete the code below to be able to perform word analogies!"
   ]
  },
  {
   "cell_type": "code",
   "execution_count": null,
   "metadata": {},
   "outputs": [],
   "source": [
    "# complete_analogy\n",
    "\n",
    "def complete_analogy(word_a, word_b, word_c, word_to_vec_map):\n",
    "    \"\"\"\n",
    "    Performs the word analogy task as explained above: a is to b as c is to ____. \n",
    "    \n",
    "    Arguments:\n",
    "    word_a -- a word, string\n",
    "    word_b -- a word, string\n",
    "    word_c -- a word, string\n",
    "    word_to_vec_map -- dictionary that maps words to their corresponding vectors. \n",
    "    \n",
    "    Returns:\n",
    "    best_word --  the word such that v_b - v_a is close to v_best_word - v_c, as measured by cosine similarity\n",
    "    \"\"\"\n",
    "    \n",
    "    # convert words to lower case\n",
    "    word_a, word_b, word_c = word_a.lower(), word_b.lower(), word_c.lower()\n",
    "    \n",
    "    ### START CODE HERE ###\n",
    "    # Get the word embeddings v_a, v_b and v_c (≈1-3 lines)\n",
    "    e_a, e_b, e_c = word_to_vec_map(word_a), word_to_vec_map(word_b), word_to_vec_map(word_c)\n",
    "    ### END CODE HERE ###\n",
    "    \n",
    "    words = word_to_vec_map.keys()\n",
    "    max_cosine_sim = -100              # Initialize max_cosine_sim to a large negative number\n",
    "    best_word = None                   # Initialize best_word with None, it will help keep track of the word to output\n",
    "\n",
    "    # loop over the whole word vector set\n",
    "    for w in words:        \n",
    "        # to avoid best_word being one of the input words, pass on them.\n",
    "        if w in [word_a, word_b, word_c] :\n",
    "            continue\n",
    "        \n",
    "        ### START CODE HERE ###\n",
    "        # Compute cosine similarity between the vector (e_b - e_a) and the vector ((w's vector representation) - e_c)  (≈1 line)\n",
    "        cosine_sim = None\n",
    "        \n",
    "        # If the cosine_sim is more than the max_cosine_sim seen so far,\n",
    "            # then: set the new max_cosine_sim to the current cosine_sim and the best_word to the current word (≈3 lines)\n",
    "        if None:\n",
    "            max_cosine_sim = None\n",
    "            best_word = w\n",
    "        ### END CODE HERE ###\n",
    "        \n",
    "    return best_word"
   ]
  },
  {
   "cell_type": "markdown",
   "metadata": {},
   "source": [
    "Run the cell below to test your code, this may take 1-2 minutes."
   ]
  },
  {
   "cell_type": "code",
   "execution_count": null,
   "metadata": {},
   "outputs": [],
   "source": [
    "triads_to_try = [('italy', 'italian', 'spain'), ('india', 'delhi', 'japan'), ('man', 'woman', 'boy'), ('small', 'smaller', 'large')]\n",
    "\n",
    "for triad in triads_to_try:\n",
    "    print ('{} -> {} :: {} -> {}'.format( *triad, complete_analogy(*triad,word_to_vec_map)))"
   ]
  },
  {
   "cell_type": "markdown",
   "metadata": {},
   "source": [
    "**Expected Output**:\n",
    "\n",
    "<table>\n",
    "    <tr>\n",
    "        <td>\n",
    "            **italy -> italian** ::\n",
    "        </td>\n",
    "        <td>\n",
    "         spain -> spanish\n",
    "        </td>\n",
    "    </tr>\n",
    "        <tr>\n",
    "        <td>\n",
    "            **india -> delhi** ::\n",
    "        </td>\n",
    "        <td>\n",
    "         japan -> tokyo\n",
    "        </td>\n",
    "    </tr>\n",
    "        <tr>\n",
    "        <td>\n",
    "            **man -> woman ** ::\n",
    "        </td>\n",
    "        <td>\n",
    "         boy -> girl\n",
    "        </td>\n",
    "    </tr>\n",
    "        <tr>\n",
    "        <td>\n",
    "            **small -> smaller ** ::\n",
    "        </td>\n",
    "        <td>\n",
    "         large -> larger\n",
    "        </td>\n",
    "    </tr>\n",
    "</table>"
   ]
  },
  {
   "cell_type": "markdown",
   "metadata": {},
   "source": [
    "Once you get the correct expected output, please feel free to modify the input cells above to test your own analogies. Try to find some other analogy pairs that do work, but also find some where the algorithm doesn't give the right answer: For example, you can try small->smaller as big->?.  "
   ]
  },
  {
   "cell_type": "markdown",
   "metadata": {},
   "source": [
    "# 3. Using Counter Factual Testing to Uncover Bias\n",
    "\n",
    "One way to test for bias in a model is to use counter factual examples. In this section we study counter factual fairness in the model's predictions (for the word analogy tasks above). Specifically factual fairness asks the question: <i>How would the prediction change if the sensitive attribute referenced in the example were different?</i>\n",
    "\n",
    "If the prediction changes with respect to a sensitive attribute, we consider this an indicator of a potential problem. In contrast to group-based notions of fairness (e.g., demographic parity, equality of odds), which seek to statistically equalize the model’s behavior for entire sensitive groups (we will see this in the final lab), counter factual fairness requires equal model behavior on individual counter factual pairs.\n",
    "\n",
    "In this case we use a simple for of counter factual test where: we consider perturbations obtained by substituting tokens (words) associated with identity groups. e.g. man with woman, white with Asian, Asian with Black, white with black and so on. i.e. we design a word analogy set of triads where the counter factual tokens are the two of the three words.\n",
    "\n",
    "In your experiment here you can investigate for any type of bias, for example those from the UK Law Protected Characteristics Equality Act 2010. You must however explore gender (need your discovered list of triads for gender  later). The Protected Characteristics are:\n",
    "\n",
    "- Age\n",
    "- Disability\n",
    "- Gender reassignment\n",
    "- Marriage and civil partnership\n",
    "- Pregnancy and maternity\n",
    "- Race\n",
    "- Religion and belief\n",
    "- Sex\n",
    "- Sexual orientation\n",
    "\n",
    "\n",
    "Although it is difficult using this type of limited language structure (word analogy) it is possible to uncover examples of bias.  For example try:\n",
    "\n",
    "- 'white' is to 'boss' what 'black' is to ___\n",
    "- 'women' is to 'nurse' what 'man' is to ___\n",
    "\n",
    "\n",
    "**You need to:**\n",
    "\n",
    "- explore word analogies for evidence of bias (minimum 10)\n",
    "- capture a list of word analogies that provide evidence of various types of bias.\n"
   ]
  },
  {
   "cell_type": "code",
   "execution_count": null,
   "metadata": {},
   "outputs": [],
   "source": [
    "### START CODE ###\n",
    "triads_to_try = [('white', 'boss', 'black'), \n",
    "                 ('women', 'nurse', 'man')]\n",
    "### END CODE ###\n",
    "\n",
    "for triad in triads_to_try:\n",
    "    print ('{} -> {} :: {} -> {}'.format( *triad, complete_analogy(*triad,word_to_vec_map)))"
   ]
  },
  {
   "cell_type": "markdown",
   "metadata": {},
   "source": [
    "# 4. Removing Bias from Word Vector Models"
   ]
  },
  {
   "cell_type": "markdown",
   "metadata": {},
   "source": [
    "In this section, you will examine gender biases (that you may well have found some evidence of using counter factuals above) that can be reflected in a word embedding model, and explore algorithms for reducing the bias.  In addition to learning about the topic of debiasing, this exercise will also help hone your intuition about what word vectors are doing. This section involves a bit of linear algebra, though you can complete it without being expert in linear algebra, by following and implementing the formulas given. \n",
    "\n",
    "**your task it to see how the GloVe word embeddings relate to gender:**\n",
    "  \n",
    "- You will need  compute a vector $g = e_{woman}-e_{man}$, where $e_{woman}$ represents the word vector corresponding to the word *woman*, and $e_{man}$ corresponds to the word vector corresponding to the word *man*. \n",
    "\n",
    "The resulting vector $g$ roughly encodes the concept of \"gender\". (You might get a more accurate representation if you compute $g_1 = e_{mother}-e_{father}$, $g_2 = e_{girl}-e_{boy}$, etc. and average over them. But just using $e_{woman}-e_{man}$ will give good enough results for now.) \n"
   ]
  },
  {
   "cell_type": "code",
   "execution_count": null,
   "metadata": {},
   "outputs": [],
   "source": [
    "#### START CODE #####\n",
    "g = None\n",
    "#### END CODE ######\n",
    "print(g)"
   ]
  },
  {
   "cell_type": "markdown",
   "metadata": {},
   "source": [
    "## 4.1 Word Similarity with Gender, $g$\n",
    "Now, you will consider the cosine similarity of different words with $g$. Consider what a positive value of similarity means vs a negative cosine similarity. \n",
    "\n",
    "**Your task is to:**\n",
    "- iterate over the list of names and print out the word and word similarity between each word (name) and the gender vector, $g$.\n",
    "- try a list of your own names"
   ]
  },
  {
   "cell_type": "code",
   "execution_count": null,
   "metadata": {},
   "outputs": [],
   "source": [
    "print ('List of names and their similarities with constructed vector:')\n",
    "\n",
    "# girls and boys names\n",
    "name_list = ['john', 'marie', 'sophie', 'ronaldo', 'priya', 'rahul', 'danielle', 'reza', 'katy', 'yasmin']\n",
    "\n",
    "#### START CODE ####\n",
    "for w in name_list:\n",
    "    sim = \n",
    "    print None\n",
    "    \n",
    "new_list = None\n",
    "\n",
    "for w in new_list:\n",
    "    sim = \n",
    "    print None\n",
    "#### END CODE #####"
   ]
  },
  {
   "cell_type": "markdown",
   "metadata": {},
   "source": [
    "As you can see, female first names tend to have a positive cosine similarity with our constructed vector $g$, while male first names tend to have a negative cosine similarity. This is not suprising, and the result seems acceptable. \n",
    "\n",
    "**Your task is to try with some other words:**\n",
    "- iterate over the provided word list\n",
    "- second create a new word list of your own to investigate (approx. ten words)"
   ]
  },
  {
   "cell_type": "code",
   "execution_count": null,
   "metadata": {},
   "outputs": [],
   "source": [
    "print('Other words and their similarities:')\n",
    "word_list = ['lipstick', 'guns', 'science', 'arts', 'literature', 'warrior','doctor', 'tree', 'receptionist', \n",
    "             'technology',  'fashion', 'teacher', 'engineer', 'pilot', 'computer', 'singer']\n",
    "#### START CODE ####\n",
    "for w in None:\n",
    "    sim = None\n",
    "    print None\n",
    "#### END CODE ###\n",
    "\n",
    "#### START CODE ####\n",
    "\n",
    "word_list_2 = None\n",
    "\n",
    "for w in word_list_2:\n",
    "    sim_2 = None\n",
    "    print (None)\n",
    "#### END CODE ###"
   ]
  },
  {
   "cell_type": "markdown",
   "metadata": {},
   "source": [
    "Do you notice anything surprising? It is astonishing how these results reflect certain unhealthy gender stereotypes. For example, \"computer\" is closer to \"man\" while \"literature\" is closer to \"woman\". Ouch! \n",
    "\n",
    "We'll see below how to reduce the bias of these vectors, using an algorithm due to [2]. Note that some word pairs such as \"actor\"/\"actress\" or \"grandmother\"/\"grandfather\" should remain gender specific, while other words such as \"receptionist\" or \"technology\" should be neutralized, i.e. not be gender-related. You will have to treat these two type of words differently when debiasing.\n",
    "\n",
    "[2] T. Bolukbasi, K.-W. Chang, J. Zou, V. Saligrama, and A. Kalai, “Man is to Computer Programmer as Woman is to Homemaker? Debiasing Word Embeddings,” Jul. 2016.[Link to Paper](https://papers.nips.cc/paper/6228-man-is-to-computer-programmer-as-woman-is-to-homemaker-debiasing-word-embeddings.pdf).\n",
    "\n",
    "## 4.2 Neutralize Bias in Word Vectors \n",
    "\n",
    "The figure below should help you visualize what neutralizing does. If you're using a 50-dimensional word embedding, the 50 dimensional space can be split into two parts: The bias-direction $g$, and the remaining 49 dimensions, which we'll call $g_{\\perp}$. In linear algebra, we say that the 49 dimensional $g_{\\perp}$ is perpendicular (or \"othogonal\") to $g$, meaning it is at 90 degrees to $g$. The neutralization step takes a vector such as $e_{receptionist}$ and zeros out the component in the direction of $g$, giving us $e_{receptionist}^{debiased}$. \n",
    "\n",
    "Even though $g_{\\perp}$ is 49 dimensional, given the limitations of what we can draw on a screen, we illustrate it using a 1 dimensional axis below. \n",
    "\n",
    "<img src=\"images/neutral.png\" style=\"width:1000px;\"/>\n",
    "<caption><center> **Figure 3**: The word vector for \"receptionist\" represented before and after applying the neutralize operation. </center></caption>\n",
    "\n",
    "**You will need to:**\n",
    "\n",
    "Implement `neutralize()` to remove the bias of words such as \"receptionist\" or \"scientist\". Given an input embedding $e$, you can use the following formulas to compute $e^{debiased}$: \n",
    "\n",
    "$$e^{bias\\_component} = \\frac{e \\cdot g}{||g||_2^2} * g\\tag{2}$$\n",
    "$$e^{debiased} = e - e^{bias\\_component}\\tag{3}$$\n",
    "\n",
    "\n",
    "- Select word vector representation of `word`\n",
    "- Compute Equation (2)\n",
    "- Compute Equation (3)\n",
    "\n",
    "**Hint:** You can make use of some or all of following Numpy functions (search for their usage):\n",
    "\n",
    "```python\n",
    "np.dot()\n",
    "np.square()\n",
    "np.linalg.norm()\n",
    "np.sqrt()\n",
    "```\n"
   ]
  },
  {
   "cell_type": "code",
   "execution_count": null,
   "metadata": {},
   "outputs": [],
   "source": [
    "def neutralize(word, g, word_to_vec_map):\n",
    "    \"\"\"\n",
    "    Removes the bias of \"word\" by projecting it on the space orthogonal to the bias axis. \n",
    "    This function ensures that gender neutral words are zero in the gender subspace.\n",
    "    \n",
    "    Arguments:\n",
    "        word -- string indicating the word to debias\n",
    "        g -- numpy-array of shape (50,), corresponding to the bias axis (such as gender)\n",
    "        word_to_vec_map -- dictionary mapping words to their corresponding vectors.\n",
    "    \n",
    "    Returns:\n",
    "        e_debiased -- neutralized word vector representation of the input \"word\"\n",
    "    \"\"\"\n",
    "    \n",
    "    ### START CODE HERE ###\n",
    "    #Step1: Select word vector representation of \"word\". Use word_to_vec_map. (≈ 1 line)\n",
    "    e = None\n",
    "    \n",
    "    # Compute e_biascomponent using the formula given above. (≈ 1 line)\n",
    "    e_biascomponent = None\n",
    " \n",
    "    # Neutralize e by substracting e_biascomponent from it \n",
    "    # e_debiased should be equal to its orthogonal projection. (≈ 1 line)\n",
    "    e_debiased = None\n",
    "    ### END CODE HERE ###\n",
    "    \n",
    "    return e_debiased"
   ]
  },
  {
   "cell_type": "markdown",
   "metadata": {},
   "source": [
    "### 4.2.1 Testing your `neutralize` Function\n",
    "\n",
    "Run the code below to test your neutralize function."
   ]
  },
  {
   "cell_type": "code",
   "execution_count": null,
   "metadata": {},
   "outputs": [],
   "source": [
    "e = \"receptionist\"\n",
    "print(\"cosine similarity between \" + e + \" and g, before neutralizing: \", cosine_similarity(word_to_vec_map[\"receptionist\"], g))\n",
    "\n",
    "e_debiased = neutralize(\"receptionist\", g, word_to_vec_map)\n",
    "print(\"cosine similarity between \" + e + \" and g, after neutralizing: \", cosine_similarity(e_debiased, g))"
   ]
  },
  {
   "cell_type": "markdown",
   "metadata": {},
   "source": [
    "**Expected Output**: The second result is essentially 0, up to numerical round-off (in the order of $10^{-17}$).\n",
    "\n",
    "\n",
    "<table>\n",
    "    <tr>\n",
    "        <td>\n",
    "            **cosine similarity between receptionist and g, before neutralizing:** :\n",
    "        </td>\n",
    "        <td>\n",
    "         0.33077941750593737\n",
    "        </td>\n",
    "    </tr>\n",
    "        <tr>\n",
    "        <td>\n",
    "            **cosine similarity between receptionist and g, after neutralizing:** :\n",
    "        </td>\n",
    "        <td>\n",
    "         -3.415405087742776e-17\n",
    "    </tr>\n",
    "</table>"
   ]
  },
  {
   "cell_type": "markdown",
   "metadata": {},
   "source": [
    "## 4.3 Equalization Algorithm to De-bias Word Vectors\n",
    "\n",
    "Next, lets see how debiasing can also be applied to word pairs such as \"actress\" and \"actor.\" Equalization is applied to pairs of words that you might want to have differ only through the gender property. As a concrete example, suppose that \"actress\" is closer to \"babysit\" than \"actor.\" By applying neutralizing to \"babysit\" we can reduce the gender-stereotype associated with babysitting. But this still does not guarantee that \"actor\" and \"actress\" are equidistant from \"babysit.\" The equalization algorithm takes care of this. \n",
    "\n",
    "The key idea behind equalization is to make sure that a particular pair of words are equidistant from the 49-dimensional $g_\\perp$. The equalization step also ensures that the two equalized steps are now the same distance from $e_{receptionist}^{debiased}$, or from any other work that has been neutralized. In pictures, this is how equalization works: \n",
    "\n",
    "<img src=\"images/equalize10.png\" style=\"width:800px;height:400px;\"\\>\n",
    "<caption><center> **Figure 4**: The word vectors for \"actor\" and \"actress\" before and after applying the equalization operation. </center></caption>\n",
    "\n",
    "\n",
    "The the linear algebra to do this is a bit more complex. (See [2] for more details if you wish). However summarised below are the key steps (equations) to complete the equalization algorithm: \n",
    "\n",
    "$$ \\mu = \\frac{e_{w1} + e_{w2}}{2}\\tag{4}$$ \n",
    "\n",
    "$$ \\mu_{B} = \\frac {\\mu \\cdot \\text{bias_axis}}{||\\text{bias_axis}||_2^2} *\\text{bias_axis}\n",
    "\\tag{5}$$ \n",
    "\n",
    "$$\\mu_{\\perp} = \\mu - \\mu_{B} \\tag{6}$$\n",
    "\n",
    "$$ e_{w1B} = \\frac {e_{w1} \\cdot \\text{bias_axis}}{||\\text{bias_axis}||_2^2} *\\text{bias_axis}\n",
    "\\tag{7}$$ \n",
    "$$ e_{w2B} = \\frac {e_{w2} \\cdot \\text{bias_axis}}{||\\text{bias_axis}||_2^2} *\\text{bias_axis}\n",
    "\\tag{8}$$\n",
    "\n",
    "\n",
    "$$e_{w1B}^{corrected} = \\sqrt{ |{1 - ||\\mu_{\\perp} ||^2_2} |} * \\frac{e_{\\text{w1B}} - \\mu_B} {||(e_{w1} - \\mu_{\\perp}) - \\mu_B)||_2} \\tag{9}$$\n",
    "\n",
    "\n",
    "$$e_{w2B}^{corrected} = \\sqrt{ |{1 - ||\\mu_{\\perp} ||^2_2} |} * \\frac{e_{\\text{w2B}} - \\mu_B} {||(e_{w2} - \\mu_{\\perp}) - \\mu_B)||_2} \\tag{10}$$\n",
    "\n",
    "$$e_1 = e_{w1B}^{corrected} + \\mu_{\\perp} \\tag{11}$$\n",
    "$$e_2 = e_{w2B}^{corrected} + \\mu_{\\perp} \\tag{12}$$\n",
    "\n",
    "\n",
    "**You will need to:**\n",
    "\n",
    "- Implement the function below. \n",
    "- Use the equations above each in turn to get the final equalized version of the pair of words.\n",
    "\n",
    "Good luck!"
   ]
  },
  {
   "cell_type": "code",
   "execution_count": null,
   "metadata": {},
   "outputs": [],
   "source": [
    "def equalize(pair, bias_axis, word_to_vec_map):\n",
    "    \"\"\"\n",
    "    Debias gender specific words by following the equalize method described in the figure above.\n",
    "    \n",
    "    Arguments:\n",
    "    pair -- pair of strings of gender specific words to debias, e.g. (\"actress\", \"actor\") \n",
    "    bias_axis -- numpy-array of shape (50,), vector corresponding to the bias axis, e.g. gender\n",
    "    word_to_vec_map -- dictionary mapping words to their corresponding vectors\n",
    "    \n",
    "    Returns\n",
    "    e_1 -- word vector corresponding to the first word\n",
    "    e_2 -- word vector corresponding to the second word\n",
    "    \"\"\"\n",
    "    \n",
    "    ### START CODE HERE ###\n",
    "    # Step 1: Select word vector representation of \"word\". Use word_to_vec_map. (≈ 2 lines)\n",
    "    e_w1 = None\n",
    "    e_w2 = None\n",
    "    \n",
    "    # Step 2: Compute the mean of e_w1 and e_w2 (≈ 1 line)\n",
    "    mu = None\n",
    "\n",
    "    # Step 3: Compute the projections of mu over the bias axis and the orthogonal axis (≈ 2 lines)\n",
    "    mu_B = None\n",
    "\n",
    "    # Step 4: Use equations (7) and (8) to compute e_w1B and e_w2B (≈2 lines)\n",
    "    e_w1B = None\n",
    "    e_w2B = None\n",
    "    \n",
    "    # Step 5: Adjust the Bias part of e_w1B and e_w2B using the formulas (9) and (10) given above (≈2 lines)\n",
    "    corrected_e_w1B = None\n",
    "    corrected_e_w2B = None\n",
    "    \n",
    "    # Step 6: Debias by equalizing e1 and e2 to the sum of their corrected projections (≈2 lines)\n",
    "    e1 = None\n",
    "    e2 = None\n",
    "                                                                 \n",
    "    ### END CODE HERE ###\n",
    "    \n",
    "    return e1, e2"
   ]
  },
  {
   "cell_type": "markdown",
   "metadata": {},
   "source": [
    "### 4.3.1 Testing your `equalize` Function\n",
    "\n",
    "Run the code below to test your equalise function.\n"
   ]
  },
  {
   "cell_type": "code",
   "execution_count": null,
   "metadata": {
    "scrolled": true
   },
   "outputs": [],
   "source": [
    "print(\"cosine similarities before equalizing:\")\n",
    "print(\"cosine_similarity(word_to_vec_map[\\\"man\\\"], gender) = \", cosine_similarity(word_to_vec_map[\"man\"], g))\n",
    "print(\"cosine_similarity(word_to_vec_map[\\\"woman\\\"], gender) = \", cosine_similarity(word_to_vec_map[\"woman\"], g))\n",
    "print()\n",
    "e1, e2 = equalize((\"man\", \"woman\"), g, word_to_vec_map)\n",
    "print(\"cosine similarities after equalizing:\")\n",
    "print(\"cosine_similarity(e1, gender) = \", cosine_similarity(e1, g))\n",
    "print(\"cosine_similarity(e2, gender) = \", cosine_similarity(e2, g))"
   ]
  },
  {
   "cell_type": "markdown",
   "metadata": {},
   "source": [
    "**Expected Output**:\n",
    "\n",
    "cosine similarities before equalizing:\n",
    "<table>\n",
    "    <tr>\n",
    "        <td>\n",
    "            **cosine_similarity(word_to_vec_map[\"man\"], gender)** =\n",
    "        </td>\n",
    "        <td>\n",
    "         -0.117110957653\n",
    "        </td>\n",
    "    </tr>\n",
    "        <tr>\n",
    "        <td>\n",
    "            **cosine_similarity(word_to_vec_map[\"woman\"], gender)** =\n",
    "        </td>\n",
    "        <td>\n",
    "         0.356666188463\n",
    "        </td>\n",
    "    </tr>\n",
    "</table>\n",
    "\n",
    "cosine similarities after equalizing:\n",
    "<table>\n",
    "    <tr>\n",
    "        <td>\n",
    "            **cosine_similarity(u1, gender)** =\n",
    "        </td>\n",
    "        <td>\n",
    "         -0.18798753406068716\n",
    "        </td>\n",
    "    </tr>\n",
    "        <tr>\n",
    "        <td>\n",
    "            **cosine_similarity(u2, gender)** =\n",
    "        </td>\n",
    "        <td>\n",
    "         0.18798753406068716\n",
    "        </td>\n",
    "    </tr>\n",
    "</table>"
   ]
  },
  {
   "cell_type": "markdown",
   "metadata": {},
   "source": [
    "# 5. Improving Gender Bias and Fairness\n",
    "\n",
    "These debiasing algorithms are very helpful for reducing bias, but are not perfect and do not eliminate all traces of bias. For example, one weakness of this implementation was that the bias direction $g$ was defined using only the pair of words _woman_ and _man_. As discussed earlier, if $g$ were defined by computing $g_1 = e_{woman} - e_{man}$; $g_2 = e_{mother} - e_{father}$; $g_3 = e_{girl} - e_{boy}$; and so on and averaging over them, you would obtain a better estimate of the \"gender\" direction in the 50 dimensional word embedding space. \n",
    "\n",
    "Using the word combinations that you discovered that pointed toward bais in the model re-run the word analogies on word vectors that have been de-biased using one of the two appropriate methods above.\n",
    "\n",
    "**You need to:**\n",
    "\n",
    "- implement the improved 'gender' direction by computing from an average of numerous word pairs $g_{av}$\n",
    "- de-bias word embeddings using improved $g_{av}$ to be used in your word analogies \n",
    " - Hint iterate over all words in the dictionary `word_to_vec_map` and apply the appropriate form of de-biasing\n",
    "- re-run your counter factual triads from section 3\n",
    "- re-run your word similarity with gender from section 4.1\n",
    "               "
   ]
  },
  {
   "cell_type": "code",
   "execution_count": null,
   "metadata": {},
   "outputs": [],
   "source": [
    "### START CODE ###\n",
    "\n",
    "#Step 1: create imporved gender vector from averaging several gender pairs\n",
    "\n",
    "None\n",
    "\n",
    "#Step 2: debias word embeddings\n",
    "\n",
    "None\n",
    "\n",
    "#Step 3: re-run word anlogies (counter factuals).\n",
    "\n",
    "None\n",
    "\n",
    "# Step 4: re-run word-gender simlarities\n",
    "\n",
    "None\n",
    "\n",
    "### END CODE ###"
   ]
  },
  {
   "cell_type": "markdown",
   "metadata": {},
   "source": [
    "<h1> 6. Critical Analysis, Reflection & Discussion</h1>\n",
    "\n",
    "- What observations have you made when using for counter factuals for bias/fairness detection, specifically\n",
    "    - its ability to detect potential bias\n",
    "    - its ability to verify removal of bias\n",
    "- What considerations might you make to the design of the improved Gender bias Vector to maximise fairness in the debiasing algorithm.\n",
    "     - How do you think we should design the list of word pairs that generate $g_{av}$?\n",
    "- What evidence have you found that this approach to de-biasing word vectors is effective?\n",
    "- What are the limitations to this approach to de-biasing and why?\n",
    "    - Can you think of approaches and actions that can help mitigate any limitations\n",
    "- Think about and suggest an approach on how you might de-bias a non-linear model space."
   ]
  },
  {
   "cell_type": "code",
   "execution_count": null,
   "metadata": {},
   "outputs": [],
   "source": []
  }
 ],
 "metadata": {
  "coursera": {
   "course_slug": "nlp-sequence-models",
   "graded_item_id": "8hb5s",
   "launcher_item_id": "5NrJ6"
  },
  "kernelspec": {
   "display_name": "Python 3 (ipykernel)",
   "language": "python",
   "name": "python3"
  },
  "language_info": {
   "codemirror_mode": {
    "name": "ipython",
    "version": 3
   },
   "file_extension": ".py",
   "mimetype": "text/x-python",
   "name": "python",
   "nbconvert_exporter": "python",
   "pygments_lexer": "ipython3",
   "version": "3.9.7"
  }
 },
 "nbformat": 4,
 "nbformat_minor": 4
}
